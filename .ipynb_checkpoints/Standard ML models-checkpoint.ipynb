{
 "cells": [
  {
   "cell_type": "markdown",
   "metadata": {
    "pycharm": {
     "is_executing": true,
     "name": "#%%\n"
    }
   },
   "source": [
    "# LoL Draft Analyzer - ML Models"
   ]
  },
  {
   "cell_type": "markdown",
   "metadata": {},
   "source": [
    "### Necessary imports"
   ]
  },
  {
   "cell_type": "code",
   "execution_count": 1,
   "metadata": {},
   "outputs": [],
   "source": [
    "from transformers import *\n",
    "from sklearn.pipeline import Pipeline\n",
    "from sklearn.linear_model import LogisticRegression\n",
    "from sklearn.metrics import accuracy_score\n",
    "from xgboost import XGBClassifier\n",
    "from sklearn.ensemble import RandomForestClassifier\n",
    "from tqdm import tqdm\n",
    "import pickle\n",
    "import warnings;\n",
    "warnings.simplefilter('ignore')"
   ]
  },
  {
   "cell_type": "markdown",
   "metadata": {},
   "source": [
    "### Importing Dataset"
   ]
  },
  {
   "cell_type": "code",
   "execution_count": 2,
   "metadata": {},
   "outputs": [],
   "source": [
    "with open(\"x_train.pkl\", \"rb\") as file:\n",
    "    x_train = pickle.load(file)\n",
    "\n",
    "with open(\"x_valid.pkl\", \"rb\") as file:\n",
    "    x_valid = pickle.load(file)\n",
    "\n",
    "with open(\"x_test.pkl\", \"rb\") as file:\n",
    "    x_test = pickle.load(file)\n",
    "\n",
    "with open(\"y_train.pkl\", \"rb\") as file:\n",
    "    y_train_dict = pickle.load(file)\n",
    "\n",
    "with open(\"y_valid.pkl\", \"rb\") as file:\n",
    "    y_valid_dict = pickle.load(file)\n",
    "\n",
    "with open(\"y_test.pkl\", \"rb\") as file:\n",
    "    y_test_dict = pickle.load(file)"
   ]
  },
  {
   "cell_type": "markdown",
   "metadata": {},
   "source": [
    "## Logistic Regression"
   ]
  },
  {
   "cell_type": "code",
   "execution_count": null,
   "metadata": {},
   "outputs": [],
   "source": [
    "logistic_regression_pipe = Pipeline(steps=[\n",
    "        ('RoleLineMerge', RoleLineMergeTransformer()),\n",
    "        ('DropUselessColumns', DropUselessColumnsTransformer(extra_input=[])),\n",
    "        ('MakeVector', MakeVectorTransformer(top_n=50, augmented=True)),\n",
    "        ('Model', LogisticRegression())\n",
    "    ])"
   ]
  },
  {
   "cell_type": "markdown",
   "metadata": {},
   "source": [
    "## Sklearn Random Forest"
   ]
  },
  {
   "cell_type": "code",
   "execution_count": null,
   "metadata": {},
   "outputs": [],
   "source": [
    "random_forest_pipe = Pipeline(steps=[\n",
    "        ('RoleLineMerge', RoleLineMergeTransformer()),\n",
    "        ('DropUselessColumns', DropUselessColumnsTransformer(extra_input=[])),\n",
    "        ('MakeVector', MakeVectorTransformer(top_n=50, augmented=True)),\n",
    "        ('Model', RandomForestClassifier(n_estimators=600, max_depth=5, n_jobs=-1))\n",
    "    ])"
   ]
  },
  {
   "cell_type": "markdown",
   "metadata": {},
   "source": [
    "## XGBoost"
   ]
  },
  {
   "cell_type": "code",
   "execution_count": null,
   "metadata": {},
   "outputs": [],
   "source": [
    "xgboost_pipe = Pipeline(steps=[\n",
    "        ('RoleLineMerge', RoleLineMergeTransformer()),\n",
    "        ('DropUselessColumns', DropUselessColumnsTransformer(extra_input=[])),\n",
    "        ('MakeVector', MakeVectorTransformer(top_n=50, augmented=True)),\n",
    "        ('lr', XGBClassifier(max_depth=3, n_jobs=-1))\n",
    "    ])"
   ]
  },
  {
   "cell_type": "markdown",
   "metadata": {},
   "source": [
    "## Voting Classifier"
   ]
  },
  {
   "cell_type": "code",
   "execution_count": null,
   "metadata": {},
   "outputs": [],
   "source": [
    "from sklearn.ensemble import VotingClassifier\n",
    "\n",
    "c1 = LogisticRegression()\n",
    "c2 = RandomForestClassifier(n_estimators=600, max_depth=5, n_jobs=-1)\n",
    "c3 = XGBClassifier(max_depth=3, n_jobs=-1)\n",
    "\n",
    "voting_classifier_pipe = Pipeline(steps=[\n",
    "        ('RoleLineMerge', RoleLineMergeTransformer()),\n",
    "        ('DropUselessColumns', DropUselessColumnsTransformer(extra_input=[])),\n",
    "        ('MakeVector', MakeVectorTransformer(top_n=50, augmented=True)),\n",
    "        ('vc', VotingClassifier(estimators=[('lr', c1), ('rf', c2), ('gnb', c3)], voting='soft'))\n",
    "    ])\n"
   ]
  },
  {
   "cell_type": "code",
   "execution_count": null,
   "metadata": {},
   "outputs": [],
   "source": [
    "a_y = augment_y(y_train_dict['Win'].astype(float))\n",
    "\n",
    "pipes = [logistic_regression_pipe.fit(x_train, a_y),\n",
    "random_forest_pipe.fit(x_train, a_y),\n",
    "xgboost_pipe.fit(x_train, a_y),\n",
    "voting_classifier_pipe.fit(x_train, a_y)]"
   ]
  },
  {
   "cell_type": "code",
   "execution_count": null,
   "metadata": {},
   "outputs": [],
   "source": [
    "for pipe in pipes:\n",
    "    predictions = pipe.predict(x_test)\n",
    "    print(accuracy_score(y_true=augment_y(y_test_dict['Win'].astype(float)), y_pred=predictions))"
   ]
  },
  {
   "cell_type": "code",
   "execution_count": null,
   "metadata": {},
   "outputs": [],
   "source": []
  }
 ],
 "metadata": {
  "kernelspec": {
   "display_name": "PyCharm (LoLMatchesScraper)",
   "language": "python",
   "name": "pycharm-9d10d139"
  },
  "language_info": {
   "codemirror_mode": {
    "name": "ipython",
    "version": 3
   },
   "file_extension": ".py",
   "mimetype": "text/x-python",
   "name": "python",
   "nbconvert_exporter": "python",
   "pygments_lexer": "ipython3",
   "version": "3.7.7"
  }
 },
 "nbformat": 4,
 "nbformat_minor": 1
}
