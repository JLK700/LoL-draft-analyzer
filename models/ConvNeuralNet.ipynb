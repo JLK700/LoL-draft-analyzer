{
  "nbformat": 4,
  "nbformat_minor": 0,
  "metadata": {
    "colab": {
      "name": "ConvNeuralNet .ipynb",
      "provenance": [],
      "collapsed_sections": []
    },
    "kernelspec": {
      "name": "python3",
      "display_name": "Python 3"
    },
    "accelerator": "GPU"
  },
  "cells": [
    {
      "cell_type": "code",
      "metadata": {
        "colab": {
          "base_uri": "https://localhost:8080/"
        },
        "id": "xhpnFIHMT1YO",
        "outputId": "e775bd0d-d019-4ef6-893d-b359577ce33b"
      },
      "source": [
        "!pip install skorch"
      ],
      "execution_count": 1,
      "outputs": [
        {
          "output_type": "stream",
          "text": [
            "Collecting skorch\n",
            "\u001b[?25l  Downloading https://files.pythonhosted.org/packages/18/c7/2f6434f9360c91a4bf14ae85f634758e5dacd3539cca4266a60be9f881ae/skorch-0.9.0-py3-none-any.whl (125kB)\n",
            "\r\u001b[K     |██▋                             | 10kB 26.3MB/s eta 0:00:01\r\u001b[K     |█████▏                          | 20kB 31.7MB/s eta 0:00:01\r\u001b[K     |███████▉                        | 30kB 20.7MB/s eta 0:00:01\r\u001b[K     |██████████▍                     | 40kB 19.0MB/s eta 0:00:01\r\u001b[K     |█████████████                   | 51kB 18.8MB/s eta 0:00:01\r\u001b[K     |███████████████▋                | 61kB 15.9MB/s eta 0:00:01\r\u001b[K     |██████████████████▎             | 71kB 15.7MB/s eta 0:00:01\r\u001b[K     |████████████████████▉           | 81kB 15.1MB/s eta 0:00:01\r\u001b[K     |███████████████████████▍        | 92kB 15.0MB/s eta 0:00:01\r\u001b[K     |██████████████████████████      | 102kB 15.5MB/s eta 0:00:01\r\u001b[K     |████████████████████████████▋   | 112kB 15.5MB/s eta 0:00:01\r\u001b[K     |███████████████████████████████▎| 122kB 15.5MB/s eta 0:00:01\r\u001b[K     |████████████████████████████████| 133kB 15.5MB/s \n",
            "\u001b[?25hRequirement already satisfied: numpy>=1.13.3 in /usr/local/lib/python3.6/dist-packages (from skorch) (1.19.5)\n",
            "Requirement already satisfied: tabulate>=0.7.7 in /usr/local/lib/python3.6/dist-packages (from skorch) (0.8.7)\n",
            "Requirement already satisfied: tqdm>=4.14.0 in /usr/local/lib/python3.6/dist-packages (from skorch) (4.41.1)\n",
            "Requirement already satisfied: scikit-learn>=0.19.1 in /usr/local/lib/python3.6/dist-packages (from skorch) (0.22.2.post1)\n",
            "Requirement already satisfied: scipy>=1.1.0 in /usr/local/lib/python3.6/dist-packages (from skorch) (1.4.1)\n",
            "Requirement already satisfied: joblib>=0.11 in /usr/local/lib/python3.6/dist-packages (from scikit-learn>=0.19.1->skorch) (1.0.0)\n",
            "Installing collected packages: skorch\n",
            "Successfully installed skorch-0.9.0\n"
          ],
          "name": "stdout"
        }
      ]
    },
    {
      "cell_type": "code",
      "metadata": {
        "id": "kpDO41dTUofl"
      },
      "source": [
        "import torch.nn as nn\r\n",
        "from skorch import NeuralNetClassifier\r\n",
        "import torch\r\n",
        "import torch.optim as optim\r\n",
        "from transformers import *\r\n",
        "import pickle\r\n",
        "from sklearn.pipeline import Pipeline\r\n",
        "from sklearn.metrics import accuracy_score"
      ],
      "execution_count": 2,
      "outputs": []
    },
    {
      "cell_type": "code",
      "metadata": {
        "colab": {
          "base_uri": "https://localhost:8080/"
        },
        "id": "9Jvto2MbT6eb",
        "outputId": "1742ed2d-3864-4d21-ca0f-b33bc8fdd8f4"
      },
      "source": [
        "device = torch.device(\"cuda:0\" if torch.cuda.is_available() else \"cpu\")\r\n",
        "print(device)"
      ],
      "execution_count": 3,
      "outputs": [
        {
          "output_type": "stream",
          "text": [
            "cuda:0\n"
          ],
          "name": "stdout"
        }
      ]
    },
    {
      "cell_type": "code",
      "metadata": {
        "id": "LwSeL6XUWZM7"
      },
      "source": [
        "with open(\"x_train.pkl\", \"rb\") as file:\r\n",
        "    x_train = pickle.load(file)\r\n",
        "\r\n",
        "with open(\"x_valid.pkl\", \"rb\") as file:\r\n",
        "    x_valid = pickle.load(file)\r\n",
        "\r\n",
        "with open(\"x_test.pkl\", \"rb\") as file:\r\n",
        "    x_test = pickle.load(file)\r\n",
        "\r\n",
        "with open(\"y_train.pkl\", \"rb\") as file:\r\n",
        "    y_train = pickle.load(file)\r\n",
        "\r\n",
        "with open(\"y_valid.pkl\", \"rb\") as file:\r\n",
        "    y_valid = pickle.load(file)\r\n",
        "\r\n",
        "with open(\"y_test.pkl\", \"rb\") as file:\r\n",
        "    y_test = pickle.load(file)"
      ],
      "execution_count": 43,
      "outputs": []
    },
    {
      "cell_type": "code",
      "metadata": {
        "id": "_nqEd2m4T6iv"
      },
      "source": [
        "class ConvNet(nn.Module):\r\n",
        "    def __init__(self):\r\n",
        "        print('net init')\r\n",
        "        super(ConvNet, self).__init__()\r\n",
        "\r\n",
        "        self.conv = nn.Sequential(\r\n",
        "            # 360 x 1\r\n",
        "            nn.Conv1d(1, 32, kernel_size=3, stride=3, padding=0),\r\n",
        "            nn.BatchNorm1d(32),\r\n",
        "            nn.ReLU(inplace=True),\r\n",
        "            nn.Conv1d(32, 32, kernel_size=3, padding=1),\r\n",
        "            nn.ReLU(inplace=True),\r\n",
        "            nn.Dropout(0.3),\r\n",
        "\r\n",
        "            # 120 x 32\r\n",
        "            nn.Conv1d(32, 48, kernel_size=3, stride=1, padding=1),\r\n",
        "            nn.BatchNorm1d(48),\r\n",
        "            nn.ReLU(),\r\n",
        "            nn.Conv1d(48, 64, kernel_size=3, stride=1, padding=1),\r\n",
        "            nn.ReLU())\r\n",
        "\r\n",
        "        self.fully_connected_layer = nn.Sequential(\r\n",
        "            nn.Dropout(p=0.8),\r\n",
        "            nn.Linear(10944, 720),\r\n",
        "            nn.ReLU(inplace=True),\r\n",
        "            nn.Dropout(p=0.2),\r\n",
        "            nn.Linear(720, 2)\r\n",
        "        )\r\n",
        "\r\n",
        "    def forward(self, x):\r\n",
        "        \r\n",
        "        x = x.view(x.shape[0], 1, -1)\r\n",
        "        \r\n",
        "        x = self.conv(x)\r\n",
        "\r\n",
        "        x = x.view(x.size(0), -1)\r\n",
        "        x = self.fully_connected_layer(x)\r\n",
        "\r\n",
        "        return x"
      ],
      "execution_count": 68,
      "outputs": []
    },
    {
      "cell_type": "code",
      "metadata": {
        "id": "9sjFYWreT6nS"
      },
      "source": [
        "net = NeuralNetClassifier(\r\n",
        "        ConvNet,\r\n",
        "        max_epochs=14,\r\n",
        "        lr=0.0001,\r\n",
        "        batch_size=1024,\r\n",
        "        verbose=4,\r\n",
        "        criterion=nn.CrossEntropyLoss,\r\n",
        "        optimizer=optim.Adam,\r\n",
        "        device=device)"
      ],
      "execution_count": 69,
      "outputs": []
    },
    {
      "cell_type": "code",
      "metadata": {
        "colab": {
          "base_uri": "https://localhost:8080/"
        },
        "id": "7MNrKwQmT6re",
        "outputId": "1a954b77-f5bb-463b-b8c2-6c17587708c6"
      },
      "source": [
        "pipe = Pipeline(steps=[\r\n",
        "    ('RoleLineMerge', RoleLineMergeTransformer()),\r\n",
        "    ('DropUselessColumns', DropUselessColumnsTransformer(extra_input=[ExtraInputType.FIRST_BLOOD, ExtraInputType.FIRST_DRAGON, ExtraInputType.FIRST_HERALD, ExtraInputType.FIRST_TOWER])),\r\n",
        "    ('MakeVector', MakeVectorTransformer(top_n=50, augmented=False)),\r\n",
        "    ('Model', net)\r\n",
        "])"
      ],
      "execution_count": 70,
      "outputs": [
        {
          "output_type": "stream",
          "text": [
            "init called\n",
            "init called\n",
            "init called\n"
          ],
          "name": "stdout"
        }
      ]
    },
    {
      "cell_type": "code",
      "metadata": {
        "colab": {
          "base_uri": "https://localhost:8080/"
        },
        "id": "Gp71U7hVUSp8",
        "outputId": "243fa1a3-9733-450b-abd0-fc23a5bbb52c"
      },
      "source": [
        "pipe.fit(x_train, y_train['Win'].astype('int64'))"
      ],
      "execution_count": 73,
      "outputs": [
        {
          "output_type": "stream",
          "text": [
            "Re-initializing module.\n",
            "net init\n",
            "Re-initializing optimizer.\n",
            "  epoch    train_loss    valid_acc    valid_loss     dur\n",
            "-------  ------------  -----------  ------------  ------\n",
            "      1        \u001b[36m0.6835\u001b[0m       \u001b[32m0.4944\u001b[0m        \u001b[35m0.6927\u001b[0m  2.8493\n",
            "      2        \u001b[36m0.6534\u001b[0m       \u001b[32m0.6486\u001b[0m        \u001b[35m0.6536\u001b[0m  2.7225\n",
            "      3        \u001b[36m0.6439\u001b[0m       \u001b[32m0.6639\u001b[0m        \u001b[35m0.6312\u001b[0m  2.7182\n",
            "      4        \u001b[36m0.6353\u001b[0m       \u001b[32m0.6662\u001b[0m        \u001b[35m0.6251\u001b[0m  2.7244\n",
            "      5        \u001b[36m0.6309\u001b[0m       \u001b[32m0.6670\u001b[0m        \u001b[35m0.6228\u001b[0m  2.7385\n",
            "      6        \u001b[36m0.6275\u001b[0m       0.6647        0.6230  2.7219\n",
            "      7        \u001b[36m0.6261\u001b[0m       0.6670        \u001b[35m0.6223\u001b[0m  2.7934\n",
            "      8        \u001b[36m0.6252\u001b[0m       \u001b[32m0.6687\u001b[0m        \u001b[35m0.6221\u001b[0m  2.7151\n",
            "      9        \u001b[36m0.6178\u001b[0m       \u001b[32m0.6697\u001b[0m        \u001b[35m0.6194\u001b[0m  2.7478\n",
            "     10        0.6203       \u001b[32m0.6702\u001b[0m        0.6226  2.7297\n",
            "     11        \u001b[36m0.6153\u001b[0m       0.6701        0.6198  2.7145\n",
            "     12        0.6164       \u001b[32m0.6710\u001b[0m        0.6239  2.7665\n",
            "     13        \u001b[36m0.6125\u001b[0m       0.6699        0.6216  2.7301\n",
            "     14        \u001b[36m0.6122\u001b[0m       0.6670        0.6242  2.7263\n"
          ],
          "name": "stdout"
        },
        {
          "output_type": "execute_result",
          "data": {
            "text/plain": [
              "Pipeline(memory=None,\n",
              "         steps=[('RoleLineMerge', RoleLineMergeTransformer()),\n",
              "                ('DropUselessColumns',\n",
              "                 DropUselessColumnsTransformer(extra_input=[<ExtraInputType.FIRST_BLOOD: 1>,\n",
              "                                                            <ExtraInputType.FIRST_DRAGON: 2>,\n",
              "                                                            <ExtraInputType.FIRST_HERALD: 4>,\n",
              "                                                            <ExtraInputType.FIRST_TOWER: 3>])),\n",
              "                ('MakeVector',\n",
              "                 MakeVectorTransformer(augmented=False, top_n=50)),\n",
              "                ('Model',\n",
              "                 <class 'skor...\n",
              "      (7): BatchNorm1d(48, eps=1e-05, momentum=0.1, affine=True, track_running_stats=True)\n",
              "      (8): ReLU()\n",
              "      (9): Conv1d(48, 64, kernel_size=(3,), stride=(1,), padding=(1,))\n",
              "      (10): ReLU()\n",
              "    )\n",
              "    (fully_connected_layer): Sequential(\n",
              "      (0): Dropout(p=0.8, inplace=False)\n",
              "      (1): Linear(in_features=10944, out_features=720, bias=True)\n",
              "      (2): ReLU(inplace=True)\n",
              "      (3): Dropout(p=0.2, inplace=False)\n",
              "      (4): Linear(in_features=720, out_features=2, bias=True)\n",
              "    )\n",
              "  ),\n",
              "))],\n",
              "         verbose=False)"
            ]
          },
          "metadata": {
            "tags": []
          },
          "execution_count": 73
        }
      ]
    },
    {
      "cell_type": "code",
      "metadata": {
        "id": "oaz4AWp4USsf",
        "colab": {
          "base_uri": "https://localhost:8080/"
        },
        "outputId": "266b4091-9866-4678-b660-5c60b0c13758"
      },
      "source": [
        "predictions = pipe.predict(x_test)\r\n",
        "print(accuracy_score(y_true=y_test['Win'].astype(float), y_pred=predictions))"
      ],
      "execution_count": 74,
      "outputs": [
        {
          "output_type": "stream",
          "text": [
            "0.6724191063174114\n"
          ],
          "name": "stdout"
        }
      ]
    },
    {
      "cell_type": "code",
      "metadata": {
        "id": "SmwJHfbqZ01-"
      },
      "source": [
        ""
      ],
      "execution_count": null,
      "outputs": []
    }
  ]
}