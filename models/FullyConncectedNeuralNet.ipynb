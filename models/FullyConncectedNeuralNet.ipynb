{
  "nbformat": 4,
  "nbformat_minor": 0,
  "metadata": {
    "colab": {
      "name": "FullyConncectedNeuralNet.ipynb",
      "provenance": [],
      "collapsed_sections": []
    },
    "kernelspec": {
      "name": "python3",
      "display_name": "Python 3"
    },
    "accelerator": "GPU"
  },
  "cells": [
    {
      "cell_type": "code",
      "metadata": {
        "colab": {
          "base_uri": "https://localhost:8080/"
        },
        "id": "i3Alk0sZZSAD",
        "outputId": "40dbaea1-0b48-4ff1-98ce-b830d6a77db2"
      },
      "source": [
        "!pip install skorch"
      ],
      "execution_count": 1,
      "outputs": [
        {
          "output_type": "stream",
          "text": [
            "Collecting skorch\n",
            "\u001b[?25l  Downloading https://files.pythonhosted.org/packages/18/c7/2f6434f9360c91a4bf14ae85f634758e5dacd3539cca4266a60be9f881ae/skorch-0.9.0-py3-none-any.whl (125kB)\n",
            "\r\u001b[K     |██▋                             | 10kB 25.8MB/s eta 0:00:01\r\u001b[K     |█████▏                          | 20kB 31.4MB/s eta 0:00:01\r\u001b[K     |███████▉                        | 30kB 19.3MB/s eta 0:00:01\r\u001b[K     |██████████▍                     | 40kB 23.0MB/s eta 0:00:01\r\u001b[K     |█████████████                   | 51kB 22.5MB/s eta 0:00:01\r\u001b[K     |███████████████▋                | 61kB 25.1MB/s eta 0:00:01\r\u001b[K     |██████████████████▎             | 71kB 17.2MB/s eta 0:00:01\r\u001b[K     |████████████████████▉           | 81kB 18.6MB/s eta 0:00:01\r\u001b[K     |███████████████████████▍        | 92kB 17.8MB/s eta 0:00:01\r\u001b[K     |██████████████████████████      | 102kB 18.1MB/s eta 0:00:01\r\u001b[K     |████████████████████████████▋   | 112kB 18.1MB/s eta 0:00:01\r\u001b[K     |███████████████████████████████▎| 122kB 18.1MB/s eta 0:00:01\r\u001b[K     |████████████████████████████████| 133kB 18.1MB/s \n",
            "\u001b[?25hRequirement already satisfied: tabulate>=0.7.7 in /usr/local/lib/python3.6/dist-packages (from skorch) (0.8.7)\n",
            "Requirement already satisfied: tqdm>=4.14.0 in /usr/local/lib/python3.6/dist-packages (from skorch) (4.41.1)\n",
            "Requirement already satisfied: scikit-learn>=0.19.1 in /usr/local/lib/python3.6/dist-packages (from skorch) (0.22.2.post1)\n",
            "Requirement already satisfied: numpy>=1.13.3 in /usr/local/lib/python3.6/dist-packages (from skorch) (1.19.5)\n",
            "Requirement already satisfied: scipy>=1.1.0 in /usr/local/lib/python3.6/dist-packages (from skorch) (1.4.1)\n",
            "Requirement already satisfied: joblib>=0.11 in /usr/local/lib/python3.6/dist-packages (from scikit-learn>=0.19.1->skorch) (1.0.0)\n",
            "Installing collected packages: skorch\n",
            "Successfully installed skorch-0.9.0\n"
          ],
          "name": "stdout"
        }
      ]
    },
    {
      "cell_type": "code",
      "metadata": {
        "id": "swZI4TUnCJEt"
      },
      "source": [
        "import torch.nn as nn\r\n",
        "from skorch import NeuralNetClassifier\r\n",
        "import torch\r\n",
        "import torch.optim as optim\r\n",
        "from transformers import *\r\n",
        "import pickle\r\n",
        "from sklearn.pipeline import Pipeline\r\n",
        "from sklearn.metrics import accuracy_score"
      ],
      "execution_count": 2,
      "outputs": []
    },
    {
      "cell_type": "code",
      "metadata": {
        "colab": {
          "base_uri": "https://localhost:8080/"
        },
        "id": "uGrkNmD5CJPb",
        "outputId": "de6b9e36-eec0-4e93-a25c-e61e0a66d68c"
      },
      "source": [
        "device = torch.device(\"cuda:0\" if torch.cuda.is_available() else \"cpu\")\r\n",
        "print(device)"
      ],
      "execution_count": 3,
      "outputs": [
        {
          "output_type": "stream",
          "text": [
            "cuda:0\n"
          ],
          "name": "stdout"
        }
      ]
    },
    {
      "cell_type": "code",
      "metadata": {
        "id": "rCec3vkDCJWn"
      },
      "source": [
        "with open(\"x_train.pkl\", \"rb\") as file:\r\n",
        "    x_train = pickle.load(file)\r\n",
        "\r\n",
        "with open(\"x_valid.pkl\", \"rb\") as file:\r\n",
        "    x_valid = pickle.load(file)\r\n",
        "\r\n",
        "with open(\"x_test.pkl\", \"rb\") as file:\r\n",
        "    x_test = pickle.load(file)\r\n",
        "\r\n",
        "with open(\"y_train.pkl\", \"rb\") as file:\r\n",
        "    y_train = pickle.load(file)\r\n",
        "\r\n",
        "with open(\"y_valid.pkl\", \"rb\") as file:\r\n",
        "    y_valid = pickle.load(file)\r\n",
        "\r\n",
        "with open(\"y_test.pkl\", \"rb\") as file:\r\n",
        "    y_test = pickle.load(file)"
      ],
      "execution_count": 4,
      "outputs": []
    },
    {
      "cell_type": "code",
      "metadata": {
        "id": "_r2TsbcdCJag"
      },
      "source": [
        "class FullyConnectedNet(nn.Module):\r\n",
        "    def __init__(self):\r\n",
        "        super(FullyConnectedNet, self).__init__()\r\n",
        "\r\n",
        "        self.fully_connected_layer = nn.Sequential(\r\n",
        "            nn.Linear(514, 380),            \r\n",
        "            nn.Tanh(),\r\n",
        "            nn.Dropout(p=0.8),\r\n",
        "            nn.Linear(380, 240),            \r\n",
        "            nn.Tanh(),\r\n",
        "            nn.Dropout(p=0.5),\r\n",
        "            nn.Linear(240, 120),            \r\n",
        "            nn.Tanh(),\r\n",
        "            nn.Dropout(p=0.4),\r\n",
        "            nn.Linear(120, 64),            \r\n",
        "            nn.Tanh(),\r\n",
        "            nn.Dropout(p=0.3),\r\n",
        "            nn.Linear(64, 16),            \r\n",
        "            nn.Tanh(),\r\n",
        "            nn.Dropout(p=0.1),\r\n",
        "            nn.Linear(16, 2),\r\n",
        "        )\r\n",
        "\r\n",
        "    def forward(self, x):\r\n",
        "        x = x.view(x.shape[0], 1, -1)\r\n",
        "\r\n",
        "        x = x.view(x.size(0), -1)\r\n",
        "        x = self.fully_connected_layer(x)\r\n",
        "\r\n",
        "        return x"
      ],
      "execution_count": 19,
      "outputs": []
    },
    {
      "cell_type": "code",
      "metadata": {
        "id": "CevbZox2CJfA"
      },
      "source": [
        "net = NeuralNetClassifier(\r\n",
        "        FullyConnectedNet,\r\n",
        "        max_epochs=30,\r\n",
        "        lr=0.0001,\r\n",
        "        batch_size=1024,\r\n",
        "        verbose=4,\r\n",
        "        criterion=nn.CrossEntropyLoss,\r\n",
        "        optimizer=optim.Adam,\r\n",
        "        device=device)"
      ],
      "execution_count": 20,
      "outputs": []
    },
    {
      "cell_type": "code",
      "metadata": {
        "colab": {
          "base_uri": "https://localhost:8080/"
        },
        "id": "Ctx4lW-VDmth",
        "outputId": "1a6f9d73-7315-4a50-a357-ba85d81ed3cb"
      },
      "source": [
        "pipe = Pipeline(steps=[\r\n",
        "    ('RoleLineMerge', RoleLineMergeTransformer()),\r\n",
        "    ('DropUselessColumns', DropUselessColumnsTransformer(extra_input=[ExtraInputType.FIRST_BLOOD, ExtraInputType.FIRST_DRAGON, ExtraInputType.FIRST_HERALD, ExtraInputType.FIRST_TOWER])),\r\n",
        "    ('MakeVector', MakeVectorTransformer(top_n=50, augmented=False)),\r\n",
        "    ('Model', net)\r\n",
        "])"
      ],
      "execution_count": 21,
      "outputs": [
        {
          "output_type": "stream",
          "text": [
            "init called\n",
            "init called\n",
            "init called\n"
          ],
          "name": "stdout"
        }
      ]
    },
    {
      "cell_type": "code",
      "metadata": {
        "colab": {
          "base_uri": "https://localhost:8080/"
        },
        "id": "jHpLpEiBCJiN",
        "outputId": "9c3f4b51-9a4e-4824-f5e9-d0e63be2b007"
      },
      "source": [
        "pipe.fit(x_train, y_train['Win'].astype('int64'))"
      ],
      "execution_count": 22,
      "outputs": [
        {
          "output_type": "stream",
          "text": [
            "  epoch    train_loss    valid_acc    valid_loss     dur\n",
            "-------  ------------  -----------  ------------  ------\n",
            "      1        \u001b[36m0.6970\u001b[0m       \u001b[32m0.4944\u001b[0m        \u001b[35m0.6916\u001b[0m  0.2848\n",
            "      2        \u001b[36m0.6878\u001b[0m       \u001b[32m0.6586\u001b[0m        \u001b[35m0.6821\u001b[0m  0.2846\n",
            "      3        \u001b[36m0.6785\u001b[0m       0.6089        \u001b[35m0.6719\u001b[0m  0.2862\n",
            "      4        \u001b[36m0.6673\u001b[0m       0.6513        \u001b[35m0.6567\u001b[0m  0.2911\n",
            "      5        \u001b[36m0.6493\u001b[0m       \u001b[32m0.6674\u001b[0m        \u001b[35m0.6348\u001b[0m  0.3405\n",
            "      6        \u001b[36m0.6296\u001b[0m       \u001b[32m0.6697\u001b[0m        \u001b[35m0.6178\u001b[0m  0.2887\n",
            "      7        \u001b[36m0.6176\u001b[0m       \u001b[32m0.6702\u001b[0m        \u001b[35m0.6129\u001b[0m  0.2956\n",
            "      8        \u001b[36m0.6163\u001b[0m       \u001b[32m0.6710\u001b[0m        \u001b[35m0.6115\u001b[0m  0.2959\n",
            "      9        \u001b[36m0.6121\u001b[0m       \u001b[32m0.6731\u001b[0m        \u001b[35m0.6105\u001b[0m  0.3286\n",
            "     10        \u001b[36m0.6072\u001b[0m       0.6722        \u001b[35m0.6099\u001b[0m  0.3668\n",
            "     11        \u001b[36m0.6066\u001b[0m       0.6708        \u001b[35m0.6095\u001b[0m  0.4184\n",
            "     12        0.6080       0.6724        \u001b[35m0.6092\u001b[0m  0.3691\n",
            "     13        \u001b[36m0.6054\u001b[0m       0.6727        \u001b[35m0.6090\u001b[0m  0.3557\n",
            "     14        \u001b[36m0.6048\u001b[0m       \u001b[32m0.6747\u001b[0m        0.6091  0.2866\n",
            "     15        0.6055       \u001b[32m0.6748\u001b[0m        0.6091  0.2866\n",
            "     16        \u001b[36m0.6038\u001b[0m       \u001b[32m0.6754\u001b[0m        0.6091  0.2925\n",
            "     17        \u001b[36m0.6019\u001b[0m       0.6754        0.6093  0.2896\n",
            "     18        \u001b[36m0.6011\u001b[0m       0.6754        0.6095  0.2881\n",
            "     19        \u001b[36m0.6008\u001b[0m       \u001b[32m0.6766\u001b[0m        0.6096  0.3478\n",
            "     20        0.6009       0.6760        0.6098  0.3286\n",
            "     21        0.6011       0.6762        0.6097  0.2946\n",
            "     22        \u001b[36m0.6002\u001b[0m       0.6758        0.6099  0.2912\n",
            "     23        \u001b[36m0.5997\u001b[0m       0.6752        0.6100  0.3164\n",
            "     24        \u001b[36m0.5994\u001b[0m       0.6762        0.6101  0.3137\n",
            "     25        \u001b[36m0.5981\u001b[0m       \u001b[32m0.6773\u001b[0m        0.6101  0.2886\n",
            "     26        0.5994       0.6760        0.6102  0.2988\n",
            "     27        0.6006       0.6764        0.6102  0.2877\n",
            "     28        0.5994       0.6760        0.6104  0.3332\n",
            "     29        \u001b[36m0.5978\u001b[0m       0.6754        0.6108  0.2948\n",
            "     30        \u001b[36m0.5977\u001b[0m       0.6764        0.6107  0.2870\n"
          ],
          "name": "stdout"
        },
        {
          "output_type": "execute_result",
          "data": {
            "text/plain": [
              "Pipeline(memory=None,\n",
              "         steps=[('RoleLineMerge', RoleLineMergeTransformer()),\n",
              "                ('DropUselessColumns',\n",
              "                 DropUselessColumnsTransformer(extra_input=[<ExtraInputType.FIRST_BLOOD: 1>,\n",
              "                                                            <ExtraInputType.FIRST_DRAGON: 2>,\n",
              "                                                            <ExtraInputType.FIRST_HERALD: 4>,\n",
              "                                                            <ExtraInputType.FIRST_TOWER: 3>])),\n",
              "                ('MakeVector',\n",
              "                 MakeVectorTransformer(augmented=False, top_n=50)),\n",
              "                ('Model',\n",
              "                 <class 'skor...\n",
              "      (6): Linear(in_features=240, out_features=120, bias=True)\n",
              "      (7): Tanh()\n",
              "      (8): Dropout(p=0.4, inplace=False)\n",
              "      (9): Linear(in_features=120, out_features=64, bias=True)\n",
              "      (10): Tanh()\n",
              "      (11): Dropout(p=0.3, inplace=False)\n",
              "      (12): Linear(in_features=64, out_features=16, bias=True)\n",
              "      (13): Tanh()\n",
              "      (14): Dropout(p=0.1, inplace=False)\n",
              "      (15): Linear(in_features=16, out_features=2, bias=True)\n",
              "    )\n",
              "  ),\n",
              "))],\n",
              "         verbose=False)"
            ]
          },
          "metadata": {
            "tags": []
          },
          "execution_count": 22
        }
      ]
    },
    {
      "cell_type": "code",
      "metadata": {
        "id": "GHx5IuxwCJls",
        "colab": {
          "base_uri": "https://localhost:8080/"
        },
        "outputId": "2aaf5046-e8b5-4a15-cb81-221009a5f91a"
      },
      "source": [
        "predictions = pipe.predict(x_test)\r\n",
        "print(accuracy_score(y_true=y_test['Win'].astype(float), y_pred=predictions))"
      ],
      "execution_count": 23,
      "outputs": [
        {
          "output_type": "stream",
          "text": [
            "0.6804314329738058\n"
          ],
          "name": "stdout"
        }
      ]
    },
    {
      "cell_type": "code",
      "metadata": {
        "id": "4rA7WSEvCJo3"
      },
      "source": [
        ""
      ],
      "execution_count": null,
      "outputs": []
    }
  ]
}