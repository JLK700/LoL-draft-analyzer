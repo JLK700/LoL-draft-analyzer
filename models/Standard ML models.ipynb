{
 "cells": [
  {
   "cell_type": "markdown",
   "metadata": {
    "pycharm": {
     "is_executing": true,
     "name": "#%%\n"
    }
   },
   "source": [
    "# LoL Draft Analyzer - ML Models"
   ]
  },
  {
   "cell_type": "markdown",
   "metadata": {},
   "source": [
    "### Necessary imports"
   ]
  },
  {
   "cell_type": "code",
   "execution_count": 1,
   "metadata": {},
   "outputs": [],
   "source": [
    "from transformers import *\n",
    "from sklearn.pipeline import Pipeline\n",
    "from sklearn.linear_model import LogisticRegression\n",
    "from sklearn.metrics import accuracy_score\n",
    "from xgboost import XGBClassifier\n",
    "from sklearn.ensemble import RandomForestClassifier\n",
    "from tqdm import tqdm\n",
    "import pickle\n",
    "import warnings;\n",
    "warnings.simplefilter('ignore')"
   ]
  },
  {
   "cell_type": "markdown",
   "metadata": {},
   "source": [
    "### Importing Dataset"
   ]
  },
  {
   "cell_type": "code",
   "execution_count": 2,
   "metadata": {},
   "outputs": [],
   "source": [
    "with open(\"x_train.pkl\", \"rb\") as file:\n",
    "    x_train = pickle.load(file)\n",
    "\n",
    "with open(\"x_valid.pkl\", \"rb\") as file:\n",
    "    x_valid = pickle.load(file)\n",
    "\n",
    "with open(\"x_test.pkl\", \"rb\") as file:\n",
    "    x_test = pickle.load(file)\n",
    "\n",
    "with open(\"y_train.pkl\", \"rb\") as file:\n",
    "    y_train_dict = pickle.load(file)\n",
    "\n",
    "with open(\"y_valid.pkl\", \"rb\") as file:\n",
    "    y_valid_dict = pickle.load(file)\n",
    "\n",
    "with open(\"y_test.pkl\", \"rb\") as file:\n",
    "    y_test_dict = pickle.load(file)"
   ]
  },
  {
   "cell_type": "markdown",
   "metadata": {},
   "source": [
    "## Logistic Regression"
   ]
  },
  {
   "cell_type": "code",
   "execution_count": 37,
   "metadata": {},
   "outputs": [
    {
     "name": "stdout",
     "output_type": "stream",
     "text": [
      "init called\n",
      "init called\n",
      "init called\n"
     ]
    }
   ],
   "source": [
    "logistic_regression_pipe = Pipeline(steps=[\n",
    "        ('RoleLineMerge', RoleLineMergeTransformer()),\n",
    "        ('DropUselessColumns', DropUselessColumnsTransformer(extra_input=[ExtraInputType.FIRST_BLOOD, ExtraInputType.FIRST_DRAGON, ExtraInputType.FIRST_HERALD, ExtraInputType.FIRST_TOWER])),\n",
    "        ('MakeVector', MakeVectorTransformer(top_n=50, augmented=False)),\n",
    "        ('Model', LogisticRegression())\n",
    "    ])"
   ]
  },
  {
   "cell_type": "markdown",
   "metadata": {},
   "source": [
    "## Sklearn Random Forest"
   ]
  },
  {
   "cell_type": "code",
   "execution_count": 38,
   "metadata": {},
   "outputs": [
    {
     "name": "stdout",
     "output_type": "stream",
     "text": [
      "init called\n",
      "init called\n",
      "init called\n"
     ]
    }
   ],
   "source": [
    "random_forest_pipe = Pipeline(steps=[\n",
    "    ('RoleLineMerge', RoleLineMergeTransformer()),\n",
    "    ('DropUselessColumns', DropUselessColumnsTransformer(extra_input=[ExtraInputType.FIRST_BLOOD, ExtraInputType.FIRST_DRAGON, ExtraInputType.FIRST_HERALD, ExtraInputType.FIRST_TOWER])),\n",
    "    ('MakeVector', MakeVectorTransformer(top_n=50, augmented=False)),\n",
    "    ('Model', RandomForestClassifier(n_estimators=600, max_depth=8, n_jobs=-1))\n",
    "])"
   ]
  },
  {
   "cell_type": "markdown",
   "metadata": {},
   "source": [
    "## XGBoost"
   ]
  },
  {
   "cell_type": "code",
   "execution_count": 39,
   "metadata": {},
   "outputs": [
    {
     "name": "stdout",
     "output_type": "stream",
     "text": [
      "init called\n",
      "init called\n",
      "init called\n"
     ]
    }
   ],
   "source": [
    "xgboost_pipe = Pipeline(steps=[\n",
    "        ('RoleLineMerge', RoleLineMergeTransformer()),\n",
    "        ('DropUselessColumns', DropUselessColumnsTransformer(extra_input=[ExtraInputType.FIRST_BLOOD, ExtraInputType.FIRST_DRAGON, ExtraInputType.FIRST_HERALD, ExtraInputType.FIRST_TOWER])),\n",
    "        ('MakeVector', MakeVectorTransformer(top_n=50, augmented=False)),\n",
    "        ('lr', XGBClassifier(max_depth=3, n_jobs=-1))\n",
    "    ])"
   ]
  },
  {
   "cell_type": "markdown",
   "metadata": {},
   "source": [
    "## Voting Classifier"
   ]
  },
  {
   "cell_type": "code",
   "execution_count": 40,
   "metadata": {},
   "outputs": [
    {
     "name": "stdout",
     "output_type": "stream",
     "text": [
      "init called\n",
      "init called\n",
      "init called\n"
     ]
    }
   ],
   "source": [
    "from sklearn.ensemble import VotingClassifier\n",
    "\n",
    "c1 = LogisticRegression()\n",
    "c2 = RandomForestClassifier(n_estimators=600, max_depth=5, n_jobs=-1)\n",
    "c3 = XGBClassifier(max_depth=3, n_jobs=-1)\n",
    "\n",
    "voting_classifier_pipe = Pipeline(steps=[\n",
    "        ('RoleLineMerge', RoleLineMergeTransformer()),\n",
    "        ('DropUselessColumns', DropUselessColumnsTransformer(extra_input=[ExtraInputType.FIRST_BLOOD, ExtraInputType.FIRST_DRAGON, ExtraInputType.FIRST_HERALD, ExtraInputType.FIRST_TOWER])),\n",
    "        ('MakeVector', MakeVectorTransformer(top_n=50, augmented=False)),\n",
    "        ('vc', VotingClassifier(estimators=[('lr', c1), ('rf', c2), ('gnb', c3)], voting='soft'))\n",
    "    ])\n"
   ]
  },
  {
   "cell_type": "code",
   "execution_count": 41,
   "metadata": {},
   "outputs": [
    {
     "name": "stdout",
     "output_type": "stream",
     "text": [
      "[21:40:41] WARNING: C:/Users/Administrator/workspace/xgboost-win64_release_1.3.0/src/learner.cc:1061: Starting in XGBoost 1.3.0, the default evaluation metric used with the objective 'binary:logistic' was changed from 'error' to 'logloss'. Explicitly set eval_metric if you'd like to restore the old behavior.\n",
      "[21:41:21] WARNING: C:/Users/Administrator/workspace/xgboost-win64_release_1.3.0/src/learner.cc:1061: Starting in XGBoost 1.3.0, the default evaluation metric used with the objective 'binary:logistic' was changed from 'error' to 'logloss'. Explicitly set eval_metric if you'd like to restore the old behavior.\n"
     ]
    }
   ],
   "source": [
    "a_y = y_train_dict['Win'].astype(float)\n",
    "\n",
    "pipes = [logistic_regression_pipe.fit(x_train, a_y),\n",
    "random_forest_pipe.fit(x_train, a_y),\n",
    "xgboost_pipe.fit(x_train, a_y),\n",
    "voting_classifier_pipe.fit(x_train, a_y)]"
   ]
  },
  {
   "cell_type": "code",
   "execution_count": 42,
   "metadata": {},
   "outputs": [
    {
     "name": "stdout",
     "output_type": "stream",
     "text": [
      "0.6782742681047765\n",
      "0.6742681047765794\n",
      "0.6755007704160246\n",
      "0.6798151001540832\n"
     ]
    }
   ],
   "source": [
    "for pipe in pipes:\n",
    "    predictions = pipe.predict(x_test)\n",
    "    print(accuracy_score(y_true=y_test_dict['Win'].astype(float), y_pred=predictions))"
   ]
  },
  {
   "cell_type": "code",
   "execution_count": null,
   "metadata": {},
   "outputs": [],
   "source": []
  }
 ],
 "metadata": {
  "kernelspec": {
   "display_name": "PyCharm (LoLMatchesScraper)",
   "language": "python",
   "name": "pycharm-9d10d139"
  },
  "language_info": {
   "codemirror_mode": {
    "name": "ipython",
    "version": 3
   },
   "file_extension": ".py",
   "mimetype": "text/x-python",
   "name": "python",
   "nbconvert_exporter": "python",
   "pygments_lexer": "ipython3",
   "version": "3.7.7"
  }
 },
 "nbformat": 4,
 "nbformat_minor": 1
}
